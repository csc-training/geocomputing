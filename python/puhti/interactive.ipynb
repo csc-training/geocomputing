{
 "cells": [
  {
   "cell_type": "markdown",
   "metadata": {},
   "source": [
    "# Calculate NDVI from Sentinel-2 image"
   ]
  },
  {
   "cell_type": "markdown",
   "metadata": {},
   "source": [
    "Import all needed libraries"
   ]
  },
  {
   "cell_type": "code",
   "execution_count": null,
   "metadata": {},
   "outputs": [],
   "source": [
    "import os\n",
    "import sys\n",
    "import time\n",
    "import rasterio\n",
    "from rasterio.plot import show"
   ]
  },
  {
   "cell_type": "markdown",
   "metadata": {},
   "source": [
    "Plot RGB of a chosen Sentinel-2 file and free memory again"
   ]
  },
  {
   "cell_type": "code",
   "execution_count": null,
   "metadata": {},
   "outputs": [],
   "source": [
    "rgb = rasterio.open('/appl/data/geo/sentinel/s2_example_data/L2A/S2B_MSIL2A_20190530T094039_N0212_R036_T36VUR_20190530T113343.SAFE/GRANULE/L2A_T36VUR_A011645_20190530T094039/IMG_DATA/R10m/T36VUR_20190530T094039_TCI_10m.jp2').read()\n",
    "show(rgb)"
   ]
  },
  {
   "cell_type": "code",
   "execution_count": null,
   "metadata": {},
   "outputs": [],
   "source": [
    "del rgb"
   ]
  },
  {
   "cell_type": "markdown",
   "metadata": {},
   "source": [
    "Read needed band files"
   ]
  },
  {
   "cell_type": "code",
   "execution_count": null,
   "metadata": {},
   "outputs": [],
   "source": [
    "red = rasterio.open('/appl/data/geo/sentinel/s2_example_data/L2A/S2B_MSIL2A_20190530T094039_N0212_R036_T36VUR_20190530T113343.SAFE/GRANULE/L2A_T36VUR_A011645_20190530T094039/IMG_DATA/R10m/T36VUR_20190530T094039_B04_10m.jp2')\n",
    "nir = rasterio.open('/appl/data/geo/sentinel/s2_example_data/L2A/S2B_MSIL2A_20190530T094039_N0212_R036_T36VUR_20190530T113343.SAFE/GRANULE/L2A_T36VUR_A011645_20190530T094039/IMG_DATA/R10m/T36VUR_20190530T094039_B08_10m.jp2')"
   ]
  },
  {
   "cell_type": "markdown",
   "metadata": {},
   "source": [
    "Scale band files"
   ]
  },
  {
   "cell_type": "code",
   "execution_count": null,
   "metadata": {},
   "outputs": [],
   "source": [
    "red = red.read(1)/10000\n",
    "nir = nir.read(1)/10000"
   ]
  },
  {
   "cell_type": "markdown",
   "metadata": {},
   "source": [
    "Calculate ndvi and delete the source bands from memory"
   ]
  },
  {
   "cell_type": "markdown",
   "metadata": {},
   "source": [
    "> This may result in a red box, warning you of invalid values (where (nir+red) == 0, and division by 0 is undefined) which for now can be ignored.  "
   ]
  },
  {
   "cell_type": "code",
   "execution_count": 1,
   "metadata": {},
   "outputs": [
    {
     "ename": "NameError",
     "evalue": "name 'nir' is not defined",
     "output_type": "error",
     "traceback": [
      "\u001b[0;31m---------------------------------------------------------------------------\u001b[0m",
      "\u001b[0;31mNameError\u001b[0m                                 Traceback (most recent call last)",
      "\u001b[1;32m/home/samwitt/git/geocomputing_python/python/puhti/interactive.ipynb Cell 10\u001b[0m line \u001b[0;36m1\n\u001b[0;32m----> <a href='vscode-notebook-cell:/home/samwitt/git/geocomputing_python/python/puhti/interactive.ipynb#X12sZmlsZQ%3D%3D?line=0'>1</a>\u001b[0m ndvi \u001b[39m=\u001b[39m (nir \u001b[39m-\u001b[39m red) \u001b[39m/\u001b[39m (nir \u001b[39m+\u001b[39m red)\n",
      "\u001b[0;31mNameError\u001b[0m: name 'nir' is not defined"
     ]
    }
   ],
   "source": [
    "ndvi = (nir - red) / (nir + red)\n",
    "del nir, red"
   ]
  },
  {
   "cell_type": "markdown",
   "metadata": {},
   "source": [
    "Check the result, by plotting the NDVI."
   ]
  },
  {
   "cell_type": "code",
   "execution_count": null,
   "metadata": {},
   "outputs": [],
   "source": [
    "show(ndvi)"
   ]
  },
  {
   "cell_type": "markdown",
   "metadata": {},
   "source": [
    "Save ndvi product"
   ]
  },
  {
   "cell_type": "markdown",
   "metadata": {},
   "source": [
    "> Note that you need to adapt the path for the output_file with your project number and CSC user name."
   ]
  },
  {
   "cell_type": "code",
   "execution_count": null,
   "metadata": {},
   "outputs": [],
   "source": [
    "reference_band = \"/appl/data/geo/sentinel/s2_example_data/L2A/S2B_MSIL2A_20190530T094039_N0212_R036_T36VUR_20190530T113343.SAFE/GRANULE/L2A_T36VUR_A011645_20190530T094039/IMG_DATA/R10m/T36VUR_20190530T094039_B04_10m.jp2\"\n",
    "metadata = rasterio.open(reference_band).profile\n",
    "metadata.update(\n",
    "        dtype=rasterio.float64,\n",
    "        driver='GTiff')\n",
    "\n",
    "output_file= \"/scratch/project_200xxxx/students/cscusername/geocomputing/python/puhti/ndvi.tif\"\n",
    "\n",
    "with rasterio.open(output_file, 'w', **metadata) as dst:\n",
    "        dst.write(ndvi, 1)"
   ]
  }
 ],
 "metadata": {
  "kernelspec": {
   "display_name": "geohpc",
   "language": "python",
   "name": "python3"
  },
  "language_info": {
   "codemirror_mode": {
    "name": "ipython",
    "version": 3
   },
   "file_extension": ".py",
   "mimetype": "text/x-python",
   "name": "python",
   "nbconvert_exporter": "python",
   "pygments_lexer": "ipython3",
   "version": "3.10.12"
  },
  "orig_nbformat": 4
 },
 "nbformat": 4,
 "nbformat_minor": 2
}
