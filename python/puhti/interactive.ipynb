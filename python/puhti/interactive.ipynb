{
 "cells": [
  {
   "cell_type": "markdown",
   "metadata": {},
   "source": [
    "# Calculate NDVI from Sentinel-2 image"
   ]
  },
  {
   "cell_type": "code",
   "execution_count": null,
   "metadata": {},
   "outputs": [],
   "source": [
    "import os\n",
    "import sys\n",
    "import time\n",
    "import rasterio"
   ]
  },
  {
   "cell_type": "markdown",
   "metadata": {},
   "source": [
    "Read needed band files"
   ]
  },
  {
   "cell_type": "code",
   "execution_count": null,
   "metadata": {},
   "outputs": [],
   "source": [
    "red = rasterio.open('/appl/data/geo/sentinel/s2_example_data/L2A/S2B_MSIL2A_20190530T094039_N0212_R036_T36VUR_20190530T113343.SAFE/GRANULE/L2A_T36VUR_A011645_20190530T094039/IMG_DATA/R10m/T36VUR_20190530T094039_B04_10m.jp2')\n",
    "nir = rasterio.open('/appl/data/geo/sentinel/s2_example_data/L2A/S2B_MSIL2A_20190530T094039_N0212_R036_T36VUR_20190530T113343.SAFE/GRANULE/L2A_T36VUR_A011645_20190530T094039/IMG_DATA/R10m/T36VUR_20190530T094039_B08_10m.jp2')"
   ]
  },
  {
   "cell_type": "markdown",
   "metadata": {},
   "source": [
    "Scale band files"
   ]
  },
  {
   "cell_type": "code",
   "execution_count": null,
   "metadata": {},
   "outputs": [],
   "source": [
    "red = red.read(1)/10000\n",
    "nir = nir.read(1)/10000"
   ]
  },
  {
   "cell_type": "markdown",
   "metadata": {},
   "source": [
    "Calculate ndvi"
   ]
  },
  {
   "cell_type": "code",
   "execution_count": null,
   "metadata": {},
   "outputs": [],
   "source": [
    "ndvi = (nir - red) / (nir + red)"
   ]
  },
  {
   "cell_type": "markdown",
   "metadata": {},
   "source": [
    "Save ndvi product"
   ]
  },
  {
   "cell_type": "code",
   "execution_count": null,
   "metadata": {},
   "outputs": [],
   "source": [
    "reference_band = \"/appl/data/geo/sentinel/s2_example_data/L2A/S2B_MSIL2A_20190530T094039_N0212_R036_T36VUR_20190530T113343.SAFE/GRANULE/L2A_T36VUR_A011645_20190530T094039/IMG_DATA/R10m/T36VUR_20190530T094039_B04_10m.jp2\"\n",
    "metadata = rasterio.open(reference_band).profile\n",
    "metadata.update(\n",
    "        dtype=rasterio.float64,\n",
    "        driver='GTiff')\n",
    "\n",
    "output_file= \"/scratch/project_200xxxx/students/cscusername\"\n",
    "\n",
    "with rasterio.open(output_file, 'w', **metadata) as dst:\n",
    "        dst.write(ndvi, 1)"
   ]
  }
 ],
 "metadata": {
  "kernelspec": {
   "display_name": "geohpc",
   "language": "python",
   "name": "python3"
  },
  "language_info": {
   "codemirror_mode": {
    "name": "ipython",
    "version": 3
   },
   "file_extension": ".py",
   "mimetype": "text/x-python",
   "name": "python",
   "nbconvert_exporter": "python",
   "pygments_lexer": "ipython3",
   "version": "3.10.12"
  },
  "orig_nbformat": 4
 },
 "nbformat": 4,
 "nbformat_minor": 2
}
