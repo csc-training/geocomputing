{
 "cells": [
  {
   "cell_type": "markdown",
   "metadata": {},
   "source": [
    "# Shallow regression for vector data\n",
    "\n",
    "This script reads zip code data produced by **vectorDataPreparations** and creates a machine learning model for\n",
    "predicting the average zip code income from population and spatial variables.\n",
    "\n",
    "It assess the model accuracy with a test dataset but also predicts the number to all zip codes and writes it to a geopackage\n",
    "for closer inspection"
   ]
  },
  {
   "cell_type": "code",
   "execution_count": 1,
   "metadata": {},
   "outputs": [],
   "source": [
    "import time\n",
    "import geopandas as gpd\n",
    "import pandas as pd\n",
    "from math import sqrt\n",
    "import os\n",
    "\n",
    "from sklearn.ensemble import GradientBoostingRegressor, RandomForestRegressor, BaggingRegressor,ExtraTreesRegressor, AdaBoostRegressor\n",
    "from sklearn.model_selection import train_test_split\n",
    "from sklearn.metrics import mean_squared_error, mean_absolute_error,r2_score"
   ]
  },
  {
   "cell_type": "markdown",
   "metadata": {},
   "source": [
    "### Input and output file paths "
   ]
  },
  {
   "cell_type": "code",
   "execution_count": 2,
   "metadata": {},
   "outputs": [],
   "source": [
    "\n",
    "paavo_data = \"data/paavo\"\n",
    "\n",
    "### Relative path to the zip code geopackage file that was prepared by vectorDataPreparations.py\n",
    "input_geopackage_path = os.path.join(paavo_data,\"zip_code_data_after_preparation.gpkg\")\n",
    "\n",
    "### Output file. Change name for different regression models\n",
    "output_geopackage_path = os.path.join(paavo_data,\"median_income_per_zipcode_randomforest.gpkg\")"
   ]
  },
  {
   "cell_type": "markdown",
   "metadata": {},
   "source": [
    "### Read the input data to a Geopandas dataframe"
   ]
  },
  {
   "cell_type": "code",
   "execution_count": 5,
   "metadata": {},
   "outputs": [
    {
     "data": {
      "text/html": [
       "<div>\n",
       "<style scoped>\n",
       "    .dataframe tbody tr th:only-of-type {\n",
       "        vertical-align: middle;\n",
       "    }\n",
       "\n",
       "    .dataframe tbody tr th {\n",
       "        vertical-align: top;\n",
       "    }\n",
       "\n",
       "    .dataframe thead th {\n",
       "        text-align: right;\n",
       "    }\n",
       "</style>\n",
       "<table border=\"1\" class=\"dataframe\">\n",
       "  <thead>\n",
       "    <tr style=\"text-align: right;\">\n",
       "      <th></th>\n",
       "      <th>postinumer</th>\n",
       "      <th>nimi</th>\n",
       "      <th>hr_mtu</th>\n",
       "      <th>euref_x</th>\n",
       "      <th>euref_y</th>\n",
       "      <th>pinta_ala</th>\n",
       "      <th>he_vakiy</th>\n",
       "      <th>he_naiset</th>\n",
       "      <th>he_miehet</th>\n",
       "      <th>he_kika</th>\n",
       "      <th>...</th>\n",
       "      <th>Pirkanmaa</th>\n",
       "      <th>Pohjanmaa</th>\n",
       "      <th>Pohjois-Karjala</th>\n",
       "      <th>Pohjois-Pohjanmaa</th>\n",
       "      <th>Pohjois-Savo</th>\n",
       "      <th>Päijät-Häme</th>\n",
       "      <th>Satakunta</th>\n",
       "      <th>Uusimaa</th>\n",
       "      <th>Varsinais-Suomi</th>\n",
       "      <th>geometry</th>\n",
       "    </tr>\n",
       "  </thead>\n",
       "  <tbody>\n",
       "    <tr>\n",
       "      <th>0</th>\n",
       "      <td>00100</td>\n",
       "      <td>Helsinki Keskusta - Etu-Töölö</td>\n",
       "      <td>27577.0</td>\n",
       "      <td>-0.199953</td>\n",
       "      <td>-1.168668</td>\n",
       "      <td>-0.409187</td>\n",
       "      <td>5.500395</td>\n",
       "      <td>5.625018</td>\n",
       "      <td>5.353739</td>\n",
       "      <td>-0.831997</td>\n",
       "      <td>...</td>\n",
       "      <td>0</td>\n",
       "      <td>0</td>\n",
       "      <td>0</td>\n",
       "      <td>0</td>\n",
       "      <td>0</td>\n",
       "      <td>0</td>\n",
       "      <td>0</td>\n",
       "      <td>1</td>\n",
       "      <td>0</td>\n",
       "      <td>POINT (385114.002 6672390.769)</td>\n",
       "    </tr>\n",
       "    <tr>\n",
       "      <th>1</th>\n",
       "      <td>00120</td>\n",
       "      <td>Punavuori</td>\n",
       "      <td>27523.0</td>\n",
       "      <td>-0.195383</td>\n",
       "      <td>-1.173029</td>\n",
       "      <td>-0.416345</td>\n",
       "      <td>1.761951</td>\n",
       "      <td>1.820420</td>\n",
       "      <td>1.694929</td>\n",
       "      <td>-0.999903</td>\n",
       "      <td>...</td>\n",
       "      <td>0</td>\n",
       "      <td>0</td>\n",
       "      <td>0</td>\n",
       "      <td>0</td>\n",
       "      <td>0</td>\n",
       "      <td>0</td>\n",
       "      <td>0</td>\n",
       "      <td>1</td>\n",
       "      <td>0</td>\n",
       "      <td>POINT (385613.520 6671377.831)</td>\n",
       "    </tr>\n",
       "    <tr>\n",
       "      <th>2</th>\n",
       "      <td>00130</td>\n",
       "      <td>Kaartinkaupunki</td>\n",
       "      <td>30479.0</td>\n",
       "      <td>-0.189480</td>\n",
       "      <td>-1.172841</td>\n",
       "      <td>-0.416290</td>\n",
       "      <td>-0.108930</td>\n",
       "      <td>-0.097516</td>\n",
       "      <td>-0.121027</td>\n",
       "      <td>-0.831997</td>\n",
       "      <td>...</td>\n",
       "      <td>0</td>\n",
       "      <td>0</td>\n",
       "      <td>0</td>\n",
       "      <td>0</td>\n",
       "      <td>0</td>\n",
       "      <td>0</td>\n",
       "      <td>0</td>\n",
       "      <td>1</td>\n",
       "      <td>0</td>\n",
       "      <td>POINT (386227.615 6671492.049)</td>\n",
       "    </tr>\n",
       "    <tr>\n",
       "      <th>3</th>\n",
       "      <td>00140</td>\n",
       "      <td>Kaivopuisto - Ullanlinna</td>\n",
       "      <td>29439.0</td>\n",
       "      <td>-0.188239</td>\n",
       "      <td>-1.176172</td>\n",
       "      <td>-0.414434</td>\n",
       "      <td>2.014145</td>\n",
       "      <td>2.166351</td>\n",
       "      <td>1.845281</td>\n",
       "      <td>-0.831997</td>\n",
       "      <td>...</td>\n",
       "      <td>0</td>\n",
       "      <td>0</td>\n",
       "      <td>0</td>\n",
       "      <td>0</td>\n",
       "      <td>0</td>\n",
       "      <td>0</td>\n",
       "      <td>0</td>\n",
       "      <td>1</td>\n",
       "      <td>0</td>\n",
       "      <td>POINT (386491.176 6670519.166)</td>\n",
       "    </tr>\n",
       "    <tr>\n",
       "      <th>4</th>\n",
       "      <td>00150</td>\n",
       "      <td>Eira - Hernesaari</td>\n",
       "      <td>26546.0</td>\n",
       "      <td>-0.197130</td>\n",
       "      <td>-1.178021</td>\n",
       "      <td>-0.412826</td>\n",
       "      <td>2.499950</td>\n",
       "      <td>2.629719</td>\n",
       "      <td>2.354273</td>\n",
       "      <td>-0.999903</td>\n",
       "      <td>...</td>\n",
       "      <td>0</td>\n",
       "      <td>0</td>\n",
       "      <td>0</td>\n",
       "      <td>0</td>\n",
       "      <td>0</td>\n",
       "      <td>0</td>\n",
       "      <td>0</td>\n",
       "      <td>1</td>\n",
       "      <td>0</td>\n",
       "      <td>POINT (385117.961 6670308.479)</td>\n",
       "    </tr>\n",
       "  </tbody>\n",
       "</table>\n",
       "<p>5 rows × 120 columns</p>\n",
       "</div>"
      ],
      "text/plain": [
       "  postinumer                           nimi   hr_mtu   euref_x   euref_y  \\\n",
       "0      00100  Helsinki Keskusta - Etu-Töölö  27577.0 -0.199953 -1.168668   \n",
       "1      00120                      Punavuori  27523.0 -0.195383 -1.173029   \n",
       "2      00130                Kaartinkaupunki  30479.0 -0.189480 -1.172841   \n",
       "3      00140       Kaivopuisto - Ullanlinna  29439.0 -0.188239 -1.176172   \n",
       "4      00150              Eira - Hernesaari  26546.0 -0.197130 -1.178021   \n",
       "\n",
       "   pinta_ala  he_vakiy  he_naiset  he_miehet   he_kika  ...  Pirkanmaa  \\\n",
       "0  -0.409187  5.500395   5.625018   5.353739 -0.831997  ...          0   \n",
       "1  -0.416345  1.761951   1.820420   1.694929 -0.999903  ...          0   \n",
       "2  -0.416290 -0.108930  -0.097516  -0.121027 -0.831997  ...          0   \n",
       "3  -0.414434  2.014145   2.166351   1.845281 -0.831997  ...          0   \n",
       "4  -0.412826  2.499950   2.629719   2.354273 -0.999903  ...          0   \n",
       "\n",
       "   Pohjanmaa  Pohjois-Karjala  Pohjois-Pohjanmaa  Pohjois-Savo  Päijät-Häme  \\\n",
       "0          0                0                  0             0            0   \n",
       "1          0                0                  0             0            0   \n",
       "2          0                0                  0             0            0   \n",
       "3          0                0                  0             0            0   \n",
       "4          0                0                  0             0            0   \n",
       "\n",
       "   Satakunta  Uusimaa  Varsinais-Suomi                        geometry  \n",
       "0          0        1                0  POINT (385114.002 6672390.769)  \n",
       "1          0        1                0  POINT (385613.520 6671377.831)  \n",
       "2          0        1                0  POINT (386227.615 6671492.049)  \n",
       "3          0        1                0  POINT (386491.176 6670519.166)  \n",
       "4          0        1                0  POINT (385117.961 6670308.479)  \n",
       "\n",
       "[5 rows x 120 columns]"
      ]
     },
     "execution_count": 5,
     "metadata": {},
     "output_type": "execute_result"
    }
   ],
   "source": [
    "original_gdf = gpd.read_file(input_geopackage_path)\n",
    "original_gdf.head()"
   ]
  },
  {
   "cell_type": "markdown",
   "metadata": {},
   "source": [
    "## Train the model \n",
    "\n",
    "You can try different regressor models by uncommenting the corresponding lines. You can also try different modeling parameters. \n",
    "\n",
    "Which one is the best model? Can you figure out how to improve it even more?"
   ]
  },
  {
   "cell_type": "code",
   "execution_count": 22,
   "metadata": {},
   "outputs": [
    {
     "name": "stdout",
     "output_type": "stream",
     "text": [
      "GradientBoostingRegressor(n_estimators=30, verbose=1)\n",
      "      Iter       Train Loss   Remaining Time \n",
      "         1     8668381.1560            1.92s\n",
      "         2     7527263.4187            1.61s\n",
      "         3     6578597.1849            1.49s\n",
      "         4     5770589.0947            1.39s\n",
      "         5     5087152.9130            1.29s\n",
      "         6     4510100.2753            1.22s\n",
      "         7     4031858.3436            1.13s\n",
      "         8     3634256.0016            1.06s\n",
      "         9     3296767.1062            1.00s\n",
      "        10     3007253.3094            0.95s\n",
      "        20     1627021.2128            0.45s\n",
      "        30     1220796.5502            0.00s\n",
      "\n",
      "MODEL ACCURACY METRICS WITH TEST DATASET: \n",
      "\t Root mean squared error: 1231 \n",
      "\t Mean absolute error: 910 \n",
      "\t Coefficient of determination: 0.8383 \n",
      "\n"
     ]
    }
   ],
   "source": [
    "### Split the gdf to x (the predictor attributes) and y (the attribute to be predicted)\n",
    "y = original_gdf['hr_mtu'] # Average income\n",
    "### remove geometry and textual fields\n",
    "x = original_gdf.drop(['geometry','postinumer','nimi','hr_mtu'],axis=1)\n",
    "\n",
    "### Split the both datasets to train (80%) and test (20%) datasets\n",
    "x_train, x_test, y_train, y_test = train_test_split(x, y, test_size=.2, random_state=42)\n",
    "\n",
    "### Choose the model to be used\n",
    "model = GradientBoostingRegressor(n_estimators=30, learning_rate=0.1,verbose=1)\n",
    "#model = RandomForestRegressor(n_estimators=30,verbose=1)\n",
    "#model = BaggingRegressor(n_estimators=30,verbose=1)\n",
    "#model = ExtraTreesRegressor(n_estimators=30,verbose=1)\n",
    "#model = AdaBoostRegressor(n_estimators=30)\n",
    "\n",
    "print(model)\n",
    "\n",
    "### Train the model with x and y of the train dataset\n",
    "model.fit(x_train, y_train)\n",
    "\n",
    "### Predict the unemployed number to the test dataset\n",
    "prediction = model.predict(x_test)\n",
    "\n",
    "### Assess the accuracy of the model with root mean squared error, mean absolute error and coefficient of determination r2\n",
    "rmse = sqrt(mean_squared_error(y_test, prediction))\n",
    "mae = mean_absolute_error(y_test, prediction)\n",
    "r2 = r2_score(y_test, prediction)\n",
    "\n",
    "print(f\"\\nMODEL ACCURACY METRICS WITH TEST DATASET: \\n\" +\n",
    "      f\"\\t Root mean squared error: {round(rmse)} \\n\" +\n",
    "      f\"\\t Mean absolute error: {round(mae)} \\n\" +\n",
    "      f\"\\t Coefficient of determination: {round(r2,4)} \\n\")\n"
   ]
  },
  {
   "cell_type": "markdown",
   "metadata": {},
   "source": [
    "## Predict average income to all zip codes\n",
    "\n",
    "Here we take the model ran the last time in the previous cell and apply it to the whole dataset"
   ]
  },
  {
   "cell_type": "code",
   "execution_count": 24,
   "metadata": {},
   "outputs": [],
   "source": [
    "### Drop the not-used columns from original_gdf as done before model training.\n",
    "x = original_gdf.drop(['geometry','postinumer','nimi','hr_mtu'],axis=1)\n",
    "\n",
    "### Predict the median income with already trained model\n",
    "prediction = model.predict(x)\n",
    "\n",
    "### Join the predictions to the original geodataframe and pick only interesting columns for results\n",
    "original_gdf['predicted_hr_mtu'] = prediction.round(0)\n",
    "original_gdf['difference'] = original_gdf['predicted_hr_mtu'] - original_gdf['hr_mtu']\n",
    "resulting_gdf = original_gdf[['postinumer','nimi','hr_mtu','predicted_hr_mtu','difference','geometry']]"
   ]
  },
  {
   "cell_type": "code",
   "execution_count": 25,
   "metadata": {},
   "outputs": [
    {
     "data": {
      "text/plain": [
       "<AxesSubplot:>"
      ]
     },
     "execution_count": 25,
     "metadata": {},
     "output_type": "execute_result"
    },
    {
     "data": {
      "image/png": "[encoded data removed]",
      "text/plain": [
       "<Figure size 432x288 with 1 Axes>"
      ]
     },
     "metadata": {
      "needs_background": "light"
     },
     "output_type": "display_data"
    }
   ],
   "source": []
  },
  {
   "cell_type": "code",
   "execution_count": null,
   "metadata": {},
   "outputs": [],
   "source": []
  }
 ],
 "metadata": {
  "kernelspec": {
   "display_name": "Python 3",
   "language": "python",
   "name": "python3"
  },
  "language_info": {
   "codemirror_mode": {
    "name": "ipython",
    "version": 3
   },
   "file_extension": ".py",
   "mimetype": "text/x-python",
   "name": "python",
   "nbconvert_exporter": "python",
   "pygments_lexer": "ipython3",
   "version": "3.8.5"
  }
 },
 "nbformat": 4,
 "nbformat_minor": 4
}
